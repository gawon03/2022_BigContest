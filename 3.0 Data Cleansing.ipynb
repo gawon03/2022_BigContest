{
 "cells": [
  {
   "cell_type": "markdown",
   "source": [
    "# Import"
   ],
   "metadata": {
    "collapsed": false
   }
  },
  {
   "cell_type": "code",
   "execution_count": 104,
   "outputs": [],
   "source": [
    "import pandas as pd\n",
    "import numpy as np\n",
    "from tqdm import tqdm\n",
    "from datetime import datetime\n",
    "\n",
    "# Visualization\n",
    "import seaborn as sns\n",
    "import matplotlib.pyplot as plt"
   ],
   "metadata": {
    "collapsed": false
   }
  },
  {
   "cell_type": "markdown",
   "source": [
    "# Data Load"
   ],
   "metadata": {
    "collapsed": false
   }
  },
  {
   "cell_type": "code",
   "execution_count": 5,
   "outputs": [],
   "source": [
    "path = 'C:/Users/이가원/Desktop/data'"
   ],
   "metadata": {
    "collapsed": false
   }
  },
  {
   "cell_type": "code",
   "execution_count": 87,
   "outputs": [],
   "source": [
    "user_spec = pd.read_csv(path+'/user_spec.csv')\n",
    "loan_result = pd.read_csv(path+'/loan_result.csv')\n",
    "log_data = pd.read_csv(path+'/log_data.csv')"
   ],
   "metadata": {
    "collapsed": false
   }
  },
  {
   "cell_type": "code",
   "execution_count": 7,
   "outputs": [
    {
     "name": "stdout",
     "output_type": "stream",
     "text": [
      "<class 'pandas.core.frame.DataFrame'>\n",
      "RangeIndex: 1394216 entries, 0 to 1394215\n",
      "Data columns (total 17 columns):\n",
      " #   Column                               Non-Null Count    Dtype  \n",
      "---  ------                               --------------    -----  \n",
      " 0   application_id                       1394216 non-null  int64  \n",
      " 1   user_id                              1394216 non-null  int64  \n",
      " 2   birth_year                           1381255 non-null  float64\n",
      " 3   gender                               1381255 non-null  float64\n",
      " 4   insert_time                          1394216 non-null  object \n",
      " 5   credit_score                         1289101 non-null  float64\n",
      " 6   yearly_income                        1394126 non-null  float64\n",
      " 7   income_type                          1394131 non-null  object \n",
      " 8   company_enter_month                  1222456 non-null  float64\n",
      " 9   employment_type                      1394131 non-null  object \n",
      " 10  houseown_type                        1394131 non-null  object \n",
      " 11  desired_amount                       1394131 non-null  float64\n",
      " 12  purpose                              1394131 non-null  object \n",
      " 13  personal_rehabilitation_yn           806755 non-null   float64\n",
      " 14  personal_rehabilitation_complete_yn  190862 non-null   float64\n",
      " 15  existing_loan_cnt                    1195660 non-null  float64\n",
      " 16  existing_loan_amt                    1080442 non-null  float64\n",
      "dtypes: float64(10), int64(2), object(5)\n",
      "memory usage: 180.8+ MB\n"
     ]
    }
   ],
   "source": [
    "user_spec.info()"
   ],
   "metadata": {
    "collapsed": false
   }
  },
  {
   "cell_type": "code",
   "execution_count": 8,
   "outputs": [
    {
     "name": "stdout",
     "output_type": "stream",
     "text": [
      "<class 'pandas.core.frame.DataFrame'>\n",
      "RangeIndex: 13527363 entries, 0 to 13527362\n",
      "Data columns (total 7 columns):\n",
      " #   Column                 Dtype  \n",
      "---  ------                 -----  \n",
      " 0   application_id         int64  \n",
      " 1   loanapply_insert_time  object \n",
      " 2   bank_id                int64  \n",
      " 3   product_id             int64  \n",
      " 4   loan_limit             float64\n",
      " 5   loan_rate              float64\n",
      " 6   is_applied             float64\n",
      "dtypes: float64(3), int64(3), object(1)\n",
      "memory usage: 722.4+ MB\n"
     ]
    }
   ],
   "source": [
    "loan_result.info()"
   ],
   "metadata": {
    "collapsed": false
   }
  },
  {
   "cell_type": "code",
   "execution_count": 9,
   "outputs": [
    {
     "name": "stdout",
     "output_type": "stream",
     "text": [
      "<class 'pandas.core.frame.DataFrame'>\n",
      "RangeIndex: 17843993 entries, 0 to 17843992\n",
      "Data columns (total 6 columns):\n",
      " #   Column          Dtype \n",
      "---  ------          ----- \n",
      " 0   user_id         int64 \n",
      " 1   event           object\n",
      " 2   timestamp       object\n",
      " 3   mp_os           object\n",
      " 4   mp_app_version  object\n",
      " 5   date_cd         object\n",
      "dtypes: int64(1), object(5)\n",
      "memory usage: 816.8+ MB\n"
     ]
    }
   ],
   "source": [
    "log_data.info()"
   ],
   "metadata": {
    "collapsed": false
   }
  },
  {
   "cell_type": "markdown",
   "source": [
    "# Data Preprocessing"
   ],
   "metadata": {
    "collapsed": false
   }
  },
  {
   "cell_type": "code",
   "execution_count": 88,
   "outputs": [],
   "source": [
    "# 날짜 type 변경\n",
    "user_spec['insert_time'] = pd.to_datetime(user_spec.insert_time)\n",
    "loan_result['loanapply_insert_time'] = pd.to_datetime(loan_result.loanapply_insert_time)\n",
    "log_data['timestamp'] = pd.to_datetime(log_data.timestamp)"
   ],
   "metadata": {
    "collapsed": false
   }
  },
  {
   "cell_type": "code",
   "execution_count": 89,
   "outputs": [],
   "source": [
    "# 월, 일, 요일, 시간대 변수 생성\n",
    "user_spec['month'] = user_spec.insert_time.dt.month\n",
    "user_spec['day'] = user_spec.insert_time.dt.day\n",
    "user_spec['weekday'] = user_spec.insert_time.dt.weekday\n",
    "user_spec['time'] = user_spec.insert_time.dt.hour\n",
    "\n",
    "loan_result['month'] = loan_result.loanapply_insert_time.dt.month\n",
    "loan_result['day'] = loan_result.loanapply_insert_time.dt.day\n",
    "loan_result['weekday'] = loan_result.loanapply_insert_time.dt.weekday\n",
    "loan_result['time'] = loan_result.loanapply_insert_time.dt.hour\n",
    "\n",
    "log_data['month'] = log_data.timestamp.dt.month\n",
    "log_data['day'] = log_data.timestamp.dt.day\n",
    "log_data['weekday'] = log_data.timestamp.dt.weekday\n",
    "log_data['time'] = log_data.timestamp.dt.hour"
   ],
   "metadata": {
    "collapsed": false
   }
  },
  {
   "cell_type": "code",
   "execution_count": 90,
   "outputs": [],
   "source": [
    "user_spec_train = user_spec[user_spec['month'] <6].reset_index(drop=True)\n",
    "loan_result_train = loan_result[loan_result['month'] <6].reset_index(drop=True)\n",
    "log_data_train = log_data[log_data['month'] <6].reset_index(drop=True)\n",
    "\n",
    "user_spec_test = user_spec[user_spec['month'] == 6].reset_index(drop=True)\n",
    "loan_result_test = loan_result[loan_result['month'] ==6].reset_index(drop=True)\n",
    "log_data_test = log_data[log_data['month'] ==6].reset_index(drop=True)"
   ],
   "metadata": {
    "collapsed": false
   }
  },
  {
   "cell_type": "code",
   "execution_count": 50,
   "outputs": [
    {
     "data": {
      "text/plain": "(1029390, 21)"
     },
     "execution_count": 50,
     "metadata": {},
     "output_type": "execute_result"
    }
   ],
   "source": [
    "user_spec_train.shape"
   ],
   "metadata": {
    "collapsed": false
   }
  },
  {
   "cell_type": "code",
   "execution_count": 53,
   "outputs": [
    {
     "data": {
      "text/plain": "(364826, 21)"
     },
     "execution_count": 53,
     "metadata": {},
     "output_type": "execute_result"
    }
   ],
   "source": [
    "user_spec_test.shape"
   ],
   "metadata": {
    "collapsed": false
   }
  },
  {
   "cell_type": "code",
   "execution_count": 51,
   "outputs": [
    {
     "data": {
      "text/plain": "(10270124, 11)"
     },
     "execution_count": 51,
     "metadata": {},
     "output_type": "execute_result"
    }
   ],
   "source": [
    "loan_result_train.shape"
   ],
   "metadata": {
    "collapsed": false
   }
  },
  {
   "cell_type": "code",
   "execution_count": 54,
   "outputs": [
    {
     "data": {
      "text/plain": "(3257239, 11)"
     },
     "execution_count": 54,
     "metadata": {},
     "output_type": "execute_result"
    }
   ],
   "source": [
    "loan_result_test.shape"
   ],
   "metadata": {
    "collapsed": false
   }
  },
  {
   "cell_type": "code",
   "execution_count": 52,
   "outputs": [
    {
     "data": {
      "text/plain": "(12907328, 10)"
     },
     "execution_count": 52,
     "metadata": {},
     "output_type": "execute_result"
    }
   ],
   "source": [
    "log_data_train.shape"
   ],
   "metadata": {
    "collapsed": false
   }
  },
  {
   "cell_type": "code",
   "execution_count": 55,
   "outputs": [
    {
     "data": {
      "text/plain": "(4936665, 10)"
     },
     "execution_count": 55,
     "metadata": {},
     "output_type": "execute_result"
    }
   ],
   "source": [
    "log_data_test.shape"
   ],
   "metadata": {
    "collapsed": false
   }
  },
  {
   "cell_type": "markdown",
   "source": [
    "## Missing_value"
   ],
   "metadata": {
    "collapsed": false
   }
  },
  {
   "cell_type": "markdown",
   "source": [
    "### Missing Value Check"
   ],
   "metadata": {
    "collapsed": false
   }
  },
  {
   "cell_type": "code",
   "execution_count": 91,
   "outputs": [
    {
     "data": {
      "text/plain": "application_id                               0\nuser_id                                      0\nbirth_year                               12961\ngender                                   12961\ninsert_time                                  0\ncredit_score                            105115\nyearly_income                               90\nincome_type                                 85\ncompany_enter_month                     171760\nemployment_type                             85\nhouseown_type                               85\ndesired_amount                              85\npurpose                                     85\npersonal_rehabilitation_yn              587461\npersonal_rehabilitation_complete_yn    1203354\nexisting_loan_cnt                       198556\nexisting_loan_amt                       313774\nmonth                                        0\nday                                          0\nweekday                                      0\ntime                                         0\ndtype: int64"
     },
     "execution_count": 91,
     "metadata": {},
     "output_type": "execute_result"
    }
   ],
   "source": [
    "user_spec.isnull().sum()"
   ],
   "metadata": {
    "collapsed": false
   }
  },
  {
   "cell_type": "code",
   "execution_count": 92,
   "outputs": [
    {
     "data": {
      "text/plain": "application_id                 0\nloanapply_insert_time          0\nbank_id                        0\nproduct_id                     0\nloan_limit                  7495\nloan_rate                   7495\nis_applied               3257239\nmonth                          0\nday                            0\nweekday                        0\ntime                           0\ndtype: int64"
     },
     "execution_count": 92,
     "metadata": {},
     "output_type": "execute_result"
    }
   ],
   "source": [
    "loan_result.isnull().sum()"
   ],
   "metadata": {
    "collapsed": false
   }
  },
  {
   "cell_type": "code",
   "execution_count": 93,
   "outputs": [
    {
     "data": {
      "text/plain": "user_id                0\nevent                  0\ntimestamp              0\nmp_os                980\nmp_app_version    660597\ndate_cd                0\nmonth                  0\nday                    0\nweekday                0\ntime                   0\ndtype: int64"
     },
     "execution_count": 93,
     "metadata": {},
     "output_type": "execute_result"
    }
   ],
   "source": [
    "log_data.isnull().sum()"
   ],
   "metadata": {
    "collapsed": false
   }
  },
  {
   "cell_type": "markdown",
   "source": [
    "### Birth_year"
   ],
   "metadata": {
    "collapsed": false
   }
  },
  {
   "cell_type": "code",
   "execution_count": 74,
   "outputs": [],
   "source": [
    "def age(x):\n",
    "    if x > 2004:\n",
    "        return 10\n",
    "    elif x > 1994:\n",
    "        return 20\n",
    "    elif x > 1984:\n",
    "        return 30\n",
    "    elif x > 1974:\n",
    "        return 40\n",
    "    elif x > 1964:\n",
    "        return 50\n",
    "    elif x > 1954:\n",
    "        return 60\n",
    "    elif x > 1944:\n",
    "        return 70\n",
    "    elif x > 1934:\n",
    "        return 80\n",
    "    elif x > 1924:\n",
    "        return 90\n",
    "    else:\n",
    "        return np.nan"
   ],
   "metadata": {
    "collapsed": false
   }
  },
  {
   "cell_type": "code",
   "execution_count": 75,
   "outputs": [],
   "source": [
    "user_spec['age'] = user_spec.birth_year.apply(lambda x : age(x))\n",
    "user_spec_train['age'] = user_spec_train.birth_year.apply(lambda x : age(x))"
   ],
   "metadata": {
    "collapsed": false
   }
  },
  {
   "cell_type": "code",
   "execution_count": 94,
   "outputs": [
    {
     "data": {
      "text/plain": "birth_year\n0    6856\n1    1411\nName: count, dtype: int64"
     },
     "execution_count": 94,
     "metadata": {},
     "output_type": "execute_result"
    }
   ],
   "source": [
    "# birth_year가 nan인 user_id\n",
    "user_id = user_spec[user_spec.birth_year.isna()].user_id\n",
    "\n",
    "# birth_year가 nan값인 user의 birth_year 갯수\n",
    "birth_df = user_spec[user_spec['user_id'].isin(user_id)].groupby('user_id')['birth_year'].nunique().reset_index()\n",
    "\n",
    "birth_df['birth_year'].value_counts()"
   ],
   "metadata": {
    "collapsed": false
   }
  },
  {
   "cell_type": "code",
   "execution_count": 95,
   "outputs": [
    {
     "name": "stderr",
     "output_type": "stream",
     "text": [
      "100%|██████████| 8267/8267 [00:41<00:00, 198.20it/s]\n"
     ]
    }
   ],
   "source": [
    "birth_df_id = birth_df.user_id.to_list()\n",
    "\n",
    "for idd in tqdm(birth_df_id):\n",
    "    if birth_df[birth_df.user_id == idd].birth_year.values[0] == 1:\n",
    "        miss_list = user_spec[user_spec.user_id == idd]['birth_year'].unique().tolist()\n",
    "        miss = [x for x in miss_list if pd.isnull(x) == False][0]\n",
    "        user_spec[user_spec.user_id == idd] = user_spec[user_spec.user_id == idd].fillna({'birth_year':miss})\n",
    "    else:\n",
    "        pass"
   ],
   "metadata": {
    "collapsed": false
   }
  },
  {
   "cell_type": "code",
   "execution_count": 96,
   "outputs": [
    {
     "data": {
      "text/plain": "9724"
     },
     "execution_count": 96,
     "metadata": {},
     "output_type": "execute_result"
    }
   ],
   "source": [
    "user_spec.birth_year.isnull().sum()"
   ],
   "metadata": {
    "collapsed": false
   }
  },
  {
   "cell_type": "code",
   "execution_count": 98,
   "outputs": [
    {
     "data": {
      "text/plain": "count    1.384492e+06\nmean     1.983280e+03\nstd      1.067738e+01\nmin      1.927000e+03\n25%      1.976000e+03\n50%      1.984000e+03\n75%      1.992000e+03\nmax      2.008000e+03\nName: birth_year, dtype: float64"
     },
     "execution_count": 98,
     "metadata": {},
     "output_type": "execute_result"
    }
   ],
   "source": [
    "user_spec.birth_year.describe()"
   ],
   "metadata": {
    "collapsed": false
   }
  },
  {
   "cell_type": "code",
   "execution_count": 105,
   "outputs": [
    {
     "data": {
      "text/plain": "<Figure size 640x480 with 1 Axes>",
      "image/png": "[encoded data removed]"
     },
     "metadata": {},
     "output_type": "display_data"
    }
   ],
   "source": [
    "sns.boxplot(y = 'birth_year', data = user_spec)\n",
    "plt.title('birth_year', size = 15)\n",
    "plt.show()"
   ],
   "metadata": {
    "collapsed": false
   }
  },
  {
   "cell_type": "code",
   "execution_count": null,
   "outputs": [],
   "source": [],
   "metadata": {
    "collapsed": false
   }
  }
 ],
 "metadata": {
  "kernelspec": {
   "display_name": "Python 3",
   "language": "python",
   "name": "python3"
  },
  "language_info": {
   "codemirror_mode": {
    "name": "ipython",
    "version": 2
   },
   "file_extension": ".py",
   "mimetype": "text/x-python",
   "name": "python",
   "nbconvert_exporter": "python",
   "pygments_lexer": "ipython2",
   "version": "2.7.6"
  }
 },
 "nbformat": 4,
 "nbformat_minor": 0
}
